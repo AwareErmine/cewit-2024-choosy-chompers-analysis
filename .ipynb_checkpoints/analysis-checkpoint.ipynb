{
 "cells": [
  {
   "cell_type": "markdown",
   "id": "e3050920-8055-4930-bcbd-091a5bbe2947",
   "metadata": {},
   "source": [
    "## [Example MeanShift from Sklearn](https://scikit-learn.org/stable/auto_examples/cluster/plot_mean_shift.html)\n",
    "[How it works](https://scikit-learn.org/stable/modules/clustering.html#mean-shift)"
   ]
  },
  {
   "cell_type": "code",
   "execution_count": 31,
   "id": "7bb08ed7-2585-4650-a3da-ad9e311d2567",
   "metadata": {},
   "outputs": [],
   "source": [
    "import numpy as np\n",
    "from sklearn.cluster import MeanShift, estimate_bandwidth, AgglomerativeClustering\n",
    "from sklearn.datasets import make_blobs\n",
    "from sklearn.decomposition import PCA\n",
    "import pandas as pd\n",
    "import matplotlib.pyplot as plt\n",
    "import pickle"
   ]
  },
  {
   "cell_type": "markdown",
   "id": "84d2fd6d-fd5b-4674-ab3e-11eee428b114",
   "metadata": {},
   "source": [
    "## Number the ingredients "
   ]
  },
  {
   "cell_type": "code",
   "execution_count": 3,
   "id": "6e0ec7a9-cf9c-4202-bced-d22f277fff7e",
   "metadata": {},
   "outputs": [],
   "source": [
    "ingredients = ['mixed berries', 'peas', 'olive oil', 'tortillas', 'lettuce', 'chicken breast', 'cardamom syrup', 'tamarind', 'cottage cheese', 'cauliflower', 'oats', 'graham cracker crust', 'rice', 'basmati rice', 'balsamic glaze', 'bell peppers', 'capers', 'garlic', 'salt', 'water', 'chicken broth', 'balsamic vinegar', 'almonds', 'masala spices', 'tzatziki sauce', 'semolina', 'balsamic vinaigrette', 'popcorn', 'pancetta', 'mushroom', 'cheese', 'peanut oil', 'heavy cream', 'raw fish', 'oranges', 'peanuts', 'sugar', 'teriyaki sauce', 'cilantro', 'chicken wings', 'tamarind chutney', 'seaweed', 'cucumbers', 'cabbage', 'sesame oil', 'curry leaves', 'strawberries', 'mixed fruits', 'cocoa powder', 'grilled chicken', 'onion', 'bbq sauce', 'honey', 'vegetable oil', 'mustard', 'soybeans', 'dill', 'beef', 'pectin', 'kidney beans', 'curry powder', 'tofu', 'croutons', 'mango', 'fish fillets', 'manchurian sauce', 'yogurt', 'greek yogurt', 'rice vinegar', 'fajita seasoning', 'mutton', 'vegetable broth', 'cardamom', 'lemon zest', 'potato masala', 'arborio rice', 'apples', 'red onion', 'pav bun', 'cocoa butter', 'creamy sauce', 'noodles', 'lemon', 'syrup', 'ground beef', 'puff pastry', 'brussels sprouts', 'soy sauce', 'emulsifiers', 'maple syrup', 'black beans', 'nutmeg', 'tomatoes', 'mayonnaise', 'vinegar', 'orange sauce', 'granola', 'butternut squash', 'phyllo dough', 'oil', 'potatoes', 'lemon juice', 'tandoori spices', 'coffee', 'milk powder', 'avocado', 'mustard seeds', 'ratatouille vegetables', 'mushrooms', 'lamb', 'alfredo sauce', 'coconut milk', 'pumpkin', 'baking powder', 'chicken', 'icing', 'sausage', 'mixed vegetables', 'pesto sauce', 'potato', 'mozzarella', 'curry paste', 'vinaigrette', 'herbs', 'corn syrup', 'cucumber', 'tikka masala sauce', 'pizza dough', 'goat cheese', 'raisins', 'shrimp', 'tikka masala', 'quinoa', 'celery', 'pumpkin spice', 'parmesan cheese', 'chocolate', 'sour cream', 'breadcrumbs', 'buffalo sauce', 'romaine lettuce', 'chickpeas', 'brandy', 'buttermilk', 'butter', 'feta cheese', 'rose water', 'satay sauce', 'graham crackers', 'saffron syrup', 'tuna', 'kashmiri red chili', 'miso paste', 'whipped cream', 'biryani masala', 'ladyfingers', 'flour', 'eggs', 'tomato sauce', 'vegetables', 'mozzarella cheese', 'milk solids', 'shawarma spices', 'nuts', 'salmon', 'pork ribs', 'lime juice', 'egg', 'poppy seeds', 'shortcake', 'ham', 'kulcha bread', 'basil', 'lentil dumplings', 'salmon fillet', 'zucchini', 'ground meat', 'paneer', 'burrito seasoning', 'creamy tomato sauce', 'coconut oil', 'taco seasoning', 'lobster', 'sweet potatoes', 'spinach', 'blueberries', 'cocoa', 'bananas', 'lemon pepper seasoning', 'sushi rice', 'cod', 'caesar dressing', 'paprika', 'wheat flour', 'shawarma seasoning', 'bacon', 'cinnamon', 'marshmallows', 'portobello mushrooms', 'brown sugar', 'peanut butter', 'carrots', 'bread crumbs', 'dough', 'berries', 'beef broth', 'raspberries', 'ginger', 'chutney', 'pineapple', 'mascarpone cheese', 'enchilada sauce', 'cookies', 'fish', 'vanilla pudding mix', 'mint', 'marinara sauce', 'spices', 'fresh tomatoes', 'prawns', 'pastry', 'burger bun', 'pecans', 'almond milk', 'tomato broth', 'curry spices', 'pasta', 'caramel', 'nori ', 'lime', 'ghee', 'cream cheese', 'brie cheese', 'coffee liqueur', 'pepper', 'watermelon', 'fermented batter', 'bread', 'onions', 'olives', 'pav bread', 'cream', 'milk', 'vanilla extract', 'spiced water', 'turmeric', 'lentils', 'chole masala', 'eggplant', 'chili powder', 'seasonings', 'chocolate chips', 'pistachios', 'quail eggs', 'mango chutney', 'pomegranate seeds', 'provolone cheese', 'truffle oil', 'cranberry sauce', 'pesto aioli', 'sun-dried tomatoes', 'artichoke hearts', 'dijon mustard', 'coconut flakes', 'red curry paste', 'garam masala', 'gruyère cheese', 'anchovies', 'sourdough bread', 'sherry vinegar', 'tofu noodles', 'raspberry jam', 'bourbon', 'cilantro pesto', 'ghee-infused butter', 'smoked paprika', 'cashews', 'maple-glazed bacon', 'wasabi paste', 'hoisin sauce', 'prosciutto', 'lemon thyme', 'raspberry vinaigrette', 'szechuan peppercorns', 'red wine', 'bok choy', 'harissa paste', 'caramelized onions', 'dried figs', 'champagne vinegar', 'goat milk', 'sriracha sauce', 'chia seeds', 'saffron threads', 'cumin seeds', 'hazelnuts', 'champagne', 'brown rice', 'kimchi', 'za\\'atar spice blend', 'tarragon', 'sweet chili sauce']"
   ]
  },
  {
   "cell_type": "code",
   "execution_count": 4,
   "id": "28af1480-aaf5-4ef0-bbfa-5e06d44df805",
   "metadata": {},
   "outputs": [
    {
     "data": {
      "text/plain": [
       "302"
      ]
     },
     "execution_count": 4,
     "metadata": {},
     "output_type": "execute_result"
    }
   ],
   "source": [
    "len(ingredients)"
   ]
  },
  {
   "cell_type": "code",
   "execution_count": 46,
   "id": "87621d7f-e5a6-4ded-b752-1250ed90be22",
   "metadata": {},
   "outputs": [
    {
     "data": {
      "text/plain": [
       "True"
      ]
     },
     "execution_count": 46,
     "metadata": {},
     "output_type": "execute_result"
    }
   ],
   "source": [
    "\"cheese\" in ingredients"
   ]
  },
  {
   "cell_type": "markdown",
   "id": "da8227cf-1ae6-4dbf-ac96-9c7c2e9bdb9e",
   "metadata": {},
   "source": [
    "## Make sample blobs\n",
    "\n",
    "we will need one coord space for each ingredient type to be considered"
   ]
  },
  {
   "cell_type": "code",
   "execution_count": 5,
   "id": "61fea736-f9dd-4e0a-8056-055583e04d1b",
   "metadata": {},
   "outputs": [
    {
     "data": {
      "text/plain": [
       "array([[0.02625922, 0.8358545 , 0.96966211, ..., 0.65971175, 0.34264635,\n",
       "        0.73940775],\n",
       "       [0.55354125, 0.33976628, 0.30973284, ..., 0.43373059, 0.56783103,\n",
       "        0.56814971],\n",
       "       [0.14866534, 0.81259675, 0.14044415, ..., 0.75466782, 0.48873014,\n",
       "        0.42970211],\n",
       "       [0.16832568, 0.09643306, 0.95064906, ..., 0.54299289, 0.79129408,\n",
       "        0.42633573]])"
      ]
     },
     "execution_count": 5,
     "metadata": {},
     "output_type": "execute_result"
    }
   ],
   "source": [
    "X, _, centers = make_blobs(n_samples=600, n_features=302, centers=4, cluster_std=0.5, center_box=(0, 1), return_centers=True) \n",
    "# how many features do I need, what range of values makes sense?\n",
    "centers"
   ]
  },
  {
   "cell_type": "code",
   "execution_count": 6,
   "id": "4bced102-e66a-4902-999e-5e35d900b202",
   "metadata": {},
   "outputs": [],
   "source": [
    "X = X.round()"
   ]
  },
  {
   "cell_type": "code",
   "execution_count": 7,
   "id": "e7d7407a-d914-4208-bebd-680082526be9",
   "metadata": {},
   "outputs": [
    {
     "data": {
      "text/plain": [
       "array([[-1., -0.,  2., ...,  1.,  2.,  1.],\n",
       "       [ 1.,  1.,  0., ...,  1.,  0.,  1.],\n",
       "       [-0., -0.,  2., ...,  0.,  0., -0.],\n",
       "       ...,\n",
       "       [-1., -0.,  0., ..., -0.,  0.,  0.],\n",
       "       [ 0.,  1.,  1., ..., -1.,  0.,  0.],\n",
       "       [ 1.,  1.,  1., ...,  1., -0., -0.]])"
      ]
     },
     "execution_count": 7,
     "metadata": {},
     "output_type": "execute_result"
    }
   ],
   "source": [
    "X"
   ]
  },
  {
   "cell_type": "markdown",
   "id": "71a84a3c-02be-41d3-bdf6-e88735a35e38",
   "metadata": {},
   "source": [
    "# Do PCA to flatten"
   ]
  },
  {
   "cell_type": "code",
   "execution_count": 8,
   "id": "f3575a95-2f19-45de-aff4-07dc00af218b",
   "metadata": {},
   "outputs": [],
   "source": [
    "pca = PCA(n_components=2)"
   ]
  },
  {
   "cell_type": "code",
   "execution_count": 9,
   "id": "0e8f13a1-aafe-4d9c-8a5e-534bb2fa67ac",
   "metadata": {},
   "outputs": [
    {
     "data": {
      "text/html": [
       "<style>#sk-container-id-1 {\n",
       "  /* Definition of color scheme common for light and dark mode */\n",
       "  --sklearn-color-text: black;\n",
       "  --sklearn-color-line: gray;\n",
       "  /* Definition of color scheme for unfitted estimators */\n",
       "  --sklearn-color-unfitted-level-0: #fff5e6;\n",
       "  --sklearn-color-unfitted-level-1: #f6e4d2;\n",
       "  --sklearn-color-unfitted-level-2: #ffe0b3;\n",
       "  --sklearn-color-unfitted-level-3: chocolate;\n",
       "  /* Definition of color scheme for fitted estimators */\n",
       "  --sklearn-color-fitted-level-0: #f0f8ff;\n",
       "  --sklearn-color-fitted-level-1: #d4ebff;\n",
       "  --sklearn-color-fitted-level-2: #b3dbfd;\n",
       "  --sklearn-color-fitted-level-3: cornflowerblue;\n",
       "\n",
       "  /* Specific color for light theme */\n",
       "  --sklearn-color-text-on-default-background: var(--sg-text-color, var(--theme-code-foreground, var(--jp-content-font-color1, black)));\n",
       "  --sklearn-color-background: var(--sg-background-color, var(--theme-background, var(--jp-layout-color0, white)));\n",
       "  --sklearn-color-border-box: var(--sg-text-color, var(--theme-code-foreground, var(--jp-content-font-color1, black)));\n",
       "  --sklearn-color-icon: #696969;\n",
       "\n",
       "  @media (prefers-color-scheme: dark) {\n",
       "    /* Redefinition of color scheme for dark theme */\n",
       "    --sklearn-color-text-on-default-background: var(--sg-text-color, var(--theme-code-foreground, var(--jp-content-font-color1, white)));\n",
       "    --sklearn-color-background: var(--sg-background-color, var(--theme-background, var(--jp-layout-color0, #111)));\n",
       "    --sklearn-color-border-box: var(--sg-text-color, var(--theme-code-foreground, var(--jp-content-font-color1, white)));\n",
       "    --sklearn-color-icon: #878787;\n",
       "  }\n",
       "}\n",
       "\n",
       "#sk-container-id-1 {\n",
       "  color: var(--sklearn-color-text);\n",
       "}\n",
       "\n",
       "#sk-container-id-1 pre {\n",
       "  padding: 0;\n",
       "}\n",
       "\n",
       "#sk-container-id-1 input.sk-hidden--visually {\n",
       "  border: 0;\n",
       "  clip: rect(1px 1px 1px 1px);\n",
       "  clip: rect(1px, 1px, 1px, 1px);\n",
       "  height: 1px;\n",
       "  margin: -1px;\n",
       "  overflow: hidden;\n",
       "  padding: 0;\n",
       "  position: absolute;\n",
       "  width: 1px;\n",
       "}\n",
       "\n",
       "#sk-container-id-1 div.sk-dashed-wrapped {\n",
       "  border: 1px dashed var(--sklearn-color-line);\n",
       "  margin: 0 0.4em 0.5em 0.4em;\n",
       "  box-sizing: border-box;\n",
       "  padding-bottom: 0.4em;\n",
       "  background-color: var(--sklearn-color-background);\n",
       "}\n",
       "\n",
       "#sk-container-id-1 div.sk-container {\n",
       "  /* jupyter's `normalize.less` sets `[hidden] { display: none; }`\n",
       "     but bootstrap.min.css set `[hidden] { display: none !important; }`\n",
       "     so we also need the `!important` here to be able to override the\n",
       "     default hidden behavior on the sphinx rendered scikit-learn.org.\n",
       "     See: https://github.com/scikit-learn/scikit-learn/issues/21755 */\n",
       "  display: inline-block !important;\n",
       "  position: relative;\n",
       "}\n",
       "\n",
       "#sk-container-id-1 div.sk-text-repr-fallback {\n",
       "  display: none;\n",
       "}\n",
       "\n",
       "div.sk-parallel-item,\n",
       "div.sk-serial,\n",
       "div.sk-item {\n",
       "  /* draw centered vertical line to link estimators */\n",
       "  background-image: linear-gradient(var(--sklearn-color-text-on-default-background), var(--sklearn-color-text-on-default-background));\n",
       "  background-size: 2px 100%;\n",
       "  background-repeat: no-repeat;\n",
       "  background-position: center center;\n",
       "}\n",
       "\n",
       "/* Parallel-specific style estimator block */\n",
       "\n",
       "#sk-container-id-1 div.sk-parallel-item::after {\n",
       "  content: \"\";\n",
       "  width: 100%;\n",
       "  border-bottom: 2px solid var(--sklearn-color-text-on-default-background);\n",
       "  flex-grow: 1;\n",
       "}\n",
       "\n",
       "#sk-container-id-1 div.sk-parallel {\n",
       "  display: flex;\n",
       "  align-items: stretch;\n",
       "  justify-content: center;\n",
       "  background-color: var(--sklearn-color-background);\n",
       "  position: relative;\n",
       "}\n",
       "\n",
       "#sk-container-id-1 div.sk-parallel-item {\n",
       "  display: flex;\n",
       "  flex-direction: column;\n",
       "}\n",
       "\n",
       "#sk-container-id-1 div.sk-parallel-item:first-child::after {\n",
       "  align-self: flex-end;\n",
       "  width: 50%;\n",
       "}\n",
       "\n",
       "#sk-container-id-1 div.sk-parallel-item:last-child::after {\n",
       "  align-self: flex-start;\n",
       "  width: 50%;\n",
       "}\n",
       "\n",
       "#sk-container-id-1 div.sk-parallel-item:only-child::after {\n",
       "  width: 0;\n",
       "}\n",
       "\n",
       "/* Serial-specific style estimator block */\n",
       "\n",
       "#sk-container-id-1 div.sk-serial {\n",
       "  display: flex;\n",
       "  flex-direction: column;\n",
       "  align-items: center;\n",
       "  background-color: var(--sklearn-color-background);\n",
       "  padding-right: 1em;\n",
       "  padding-left: 1em;\n",
       "}\n",
       "\n",
       "\n",
       "/* Toggleable style: style used for estimator/Pipeline/ColumnTransformer box that is\n",
       "clickable and can be expanded/collapsed.\n",
       "- Pipeline and ColumnTransformer use this feature and define the default style\n",
       "- Estimators will overwrite some part of the style using the `sk-estimator` class\n",
       "*/\n",
       "\n",
       "/* Pipeline and ColumnTransformer style (default) */\n",
       "\n",
       "#sk-container-id-1 div.sk-toggleable {\n",
       "  /* Default theme specific background. It is overwritten whether we have a\n",
       "  specific estimator or a Pipeline/ColumnTransformer */\n",
       "  background-color: var(--sklearn-color-background);\n",
       "}\n",
       "\n",
       "/* Toggleable label */\n",
       "#sk-container-id-1 label.sk-toggleable__label {\n",
       "  cursor: pointer;\n",
       "  display: block;\n",
       "  width: 100%;\n",
       "  margin-bottom: 0;\n",
       "  padding: 0.5em;\n",
       "  box-sizing: border-box;\n",
       "  text-align: center;\n",
       "}\n",
       "\n",
       "#sk-container-id-1 label.sk-toggleable__label-arrow:before {\n",
       "  /* Arrow on the left of the label */\n",
       "  content: \"▸\";\n",
       "  float: left;\n",
       "  margin-right: 0.25em;\n",
       "  color: var(--sklearn-color-icon);\n",
       "}\n",
       "\n",
       "#sk-container-id-1 label.sk-toggleable__label-arrow:hover:before {\n",
       "  color: var(--sklearn-color-text);\n",
       "}\n",
       "\n",
       "/* Toggleable content - dropdown */\n",
       "\n",
       "#sk-container-id-1 div.sk-toggleable__content {\n",
       "  max-height: 0;\n",
       "  max-width: 0;\n",
       "  overflow: hidden;\n",
       "  text-align: left;\n",
       "  /* unfitted */\n",
       "  background-color: var(--sklearn-color-unfitted-level-0);\n",
       "}\n",
       "\n",
       "#sk-container-id-1 div.sk-toggleable__content.fitted {\n",
       "  /* fitted */\n",
       "  background-color: var(--sklearn-color-fitted-level-0);\n",
       "}\n",
       "\n",
       "#sk-container-id-1 div.sk-toggleable__content pre {\n",
       "  margin: 0.2em;\n",
       "  border-radius: 0.25em;\n",
       "  color: var(--sklearn-color-text);\n",
       "  /* unfitted */\n",
       "  background-color: var(--sklearn-color-unfitted-level-0);\n",
       "}\n",
       "\n",
       "#sk-container-id-1 div.sk-toggleable__content.fitted pre {\n",
       "  /* unfitted */\n",
       "  background-color: var(--sklearn-color-fitted-level-0);\n",
       "}\n",
       "\n",
       "#sk-container-id-1 input.sk-toggleable__control:checked~div.sk-toggleable__content {\n",
       "  /* Expand drop-down */\n",
       "  max-height: 200px;\n",
       "  max-width: 100%;\n",
       "  overflow: auto;\n",
       "}\n",
       "\n",
       "#sk-container-id-1 input.sk-toggleable__control:checked~label.sk-toggleable__label-arrow:before {\n",
       "  content: \"▾\";\n",
       "}\n",
       "\n",
       "/* Pipeline/ColumnTransformer-specific style */\n",
       "\n",
       "#sk-container-id-1 div.sk-label input.sk-toggleable__control:checked~label.sk-toggleable__label {\n",
       "  color: var(--sklearn-color-text);\n",
       "  background-color: var(--sklearn-color-unfitted-level-2);\n",
       "}\n",
       "\n",
       "#sk-container-id-1 div.sk-label.fitted input.sk-toggleable__control:checked~label.sk-toggleable__label {\n",
       "  background-color: var(--sklearn-color-fitted-level-2);\n",
       "}\n",
       "\n",
       "/* Estimator-specific style */\n",
       "\n",
       "/* Colorize estimator box */\n",
       "#sk-container-id-1 div.sk-estimator input.sk-toggleable__control:checked~label.sk-toggleable__label {\n",
       "  /* unfitted */\n",
       "  background-color: var(--sklearn-color-unfitted-level-2);\n",
       "}\n",
       "\n",
       "#sk-container-id-1 div.sk-estimator.fitted input.sk-toggleable__control:checked~label.sk-toggleable__label {\n",
       "  /* fitted */\n",
       "  background-color: var(--sklearn-color-fitted-level-2);\n",
       "}\n",
       "\n",
       "#sk-container-id-1 div.sk-label label.sk-toggleable__label,\n",
       "#sk-container-id-1 div.sk-label label {\n",
       "  /* The background is the default theme color */\n",
       "  color: var(--sklearn-color-text-on-default-background);\n",
       "}\n",
       "\n",
       "/* On hover, darken the color of the background */\n",
       "#sk-container-id-1 div.sk-label:hover label.sk-toggleable__label {\n",
       "  color: var(--sklearn-color-text);\n",
       "  background-color: var(--sklearn-color-unfitted-level-2);\n",
       "}\n",
       "\n",
       "/* Label box, darken color on hover, fitted */\n",
       "#sk-container-id-1 div.sk-label.fitted:hover label.sk-toggleable__label.fitted {\n",
       "  color: var(--sklearn-color-text);\n",
       "  background-color: var(--sklearn-color-fitted-level-2);\n",
       "}\n",
       "\n",
       "/* Estimator label */\n",
       "\n",
       "#sk-container-id-1 div.sk-label label {\n",
       "  font-family: monospace;\n",
       "  font-weight: bold;\n",
       "  display: inline-block;\n",
       "  line-height: 1.2em;\n",
       "}\n",
       "\n",
       "#sk-container-id-1 div.sk-label-container {\n",
       "  text-align: center;\n",
       "}\n",
       "\n",
       "/* Estimator-specific */\n",
       "#sk-container-id-1 div.sk-estimator {\n",
       "  font-family: monospace;\n",
       "  border: 1px dotted var(--sklearn-color-border-box);\n",
       "  border-radius: 0.25em;\n",
       "  box-sizing: border-box;\n",
       "  margin-bottom: 0.5em;\n",
       "  /* unfitted */\n",
       "  background-color: var(--sklearn-color-unfitted-level-0);\n",
       "}\n",
       "\n",
       "#sk-container-id-1 div.sk-estimator.fitted {\n",
       "  /* fitted */\n",
       "  background-color: var(--sklearn-color-fitted-level-0);\n",
       "}\n",
       "\n",
       "/* on hover */\n",
       "#sk-container-id-1 div.sk-estimator:hover {\n",
       "  /* unfitted */\n",
       "  background-color: var(--sklearn-color-unfitted-level-2);\n",
       "}\n",
       "\n",
       "#sk-container-id-1 div.sk-estimator.fitted:hover {\n",
       "  /* fitted */\n",
       "  background-color: var(--sklearn-color-fitted-level-2);\n",
       "}\n",
       "\n",
       "/* Specification for estimator info (e.g. \"i\" and \"?\") */\n",
       "\n",
       "/* Common style for \"i\" and \"?\" */\n",
       "\n",
       ".sk-estimator-doc-link,\n",
       "a:link.sk-estimator-doc-link,\n",
       "a:visited.sk-estimator-doc-link {\n",
       "  float: right;\n",
       "  font-size: smaller;\n",
       "  line-height: 1em;\n",
       "  font-family: monospace;\n",
       "  background-color: var(--sklearn-color-background);\n",
       "  border-radius: 1em;\n",
       "  height: 1em;\n",
       "  width: 1em;\n",
       "  text-decoration: none !important;\n",
       "  margin-left: 1ex;\n",
       "  /* unfitted */\n",
       "  border: var(--sklearn-color-unfitted-level-1) 1pt solid;\n",
       "  color: var(--sklearn-color-unfitted-level-1);\n",
       "}\n",
       "\n",
       ".sk-estimator-doc-link.fitted,\n",
       "a:link.sk-estimator-doc-link.fitted,\n",
       "a:visited.sk-estimator-doc-link.fitted {\n",
       "  /* fitted */\n",
       "  border: var(--sklearn-color-fitted-level-1) 1pt solid;\n",
       "  color: var(--sklearn-color-fitted-level-1);\n",
       "}\n",
       "\n",
       "/* On hover */\n",
       "div.sk-estimator:hover .sk-estimator-doc-link:hover,\n",
       ".sk-estimator-doc-link:hover,\n",
       "div.sk-label-container:hover .sk-estimator-doc-link:hover,\n",
       ".sk-estimator-doc-link:hover {\n",
       "  /* unfitted */\n",
       "  background-color: var(--sklearn-color-unfitted-level-3);\n",
       "  color: var(--sklearn-color-background);\n",
       "  text-decoration: none;\n",
       "}\n",
       "\n",
       "div.sk-estimator.fitted:hover .sk-estimator-doc-link.fitted:hover,\n",
       ".sk-estimator-doc-link.fitted:hover,\n",
       "div.sk-label-container:hover .sk-estimator-doc-link.fitted:hover,\n",
       ".sk-estimator-doc-link.fitted:hover {\n",
       "  /* fitted */\n",
       "  background-color: var(--sklearn-color-fitted-level-3);\n",
       "  color: var(--sklearn-color-background);\n",
       "  text-decoration: none;\n",
       "}\n",
       "\n",
       "/* Span, style for the box shown on hovering the info icon */\n",
       ".sk-estimator-doc-link span {\n",
       "  display: none;\n",
       "  z-index: 9999;\n",
       "  position: relative;\n",
       "  font-weight: normal;\n",
       "  right: .2ex;\n",
       "  padding: .5ex;\n",
       "  margin: .5ex;\n",
       "  width: min-content;\n",
       "  min-width: 20ex;\n",
       "  max-width: 50ex;\n",
       "  color: var(--sklearn-color-text);\n",
       "  box-shadow: 2pt 2pt 4pt #999;\n",
       "  /* unfitted */\n",
       "  background: var(--sklearn-color-unfitted-level-0);\n",
       "  border: .5pt solid var(--sklearn-color-unfitted-level-3);\n",
       "}\n",
       "\n",
       ".sk-estimator-doc-link.fitted span {\n",
       "  /* fitted */\n",
       "  background: var(--sklearn-color-fitted-level-0);\n",
       "  border: var(--sklearn-color-fitted-level-3);\n",
       "}\n",
       "\n",
       ".sk-estimator-doc-link:hover span {\n",
       "  display: block;\n",
       "}\n",
       "\n",
       "/* \"?\"-specific style due to the `<a>` HTML tag */\n",
       "\n",
       "#sk-container-id-1 a.estimator_doc_link {\n",
       "  float: right;\n",
       "  font-size: 1rem;\n",
       "  line-height: 1em;\n",
       "  font-family: monospace;\n",
       "  background-color: var(--sklearn-color-background);\n",
       "  border-radius: 1rem;\n",
       "  height: 1rem;\n",
       "  width: 1rem;\n",
       "  text-decoration: none;\n",
       "  /* unfitted */\n",
       "  color: var(--sklearn-color-unfitted-level-1);\n",
       "  border: var(--sklearn-color-unfitted-level-1) 1pt solid;\n",
       "}\n",
       "\n",
       "#sk-container-id-1 a.estimator_doc_link.fitted {\n",
       "  /* fitted */\n",
       "  border: var(--sklearn-color-fitted-level-1) 1pt solid;\n",
       "  color: var(--sklearn-color-fitted-level-1);\n",
       "}\n",
       "\n",
       "/* On hover */\n",
       "#sk-container-id-1 a.estimator_doc_link:hover {\n",
       "  /* unfitted */\n",
       "  background-color: var(--sklearn-color-unfitted-level-3);\n",
       "  color: var(--sklearn-color-background);\n",
       "  text-decoration: none;\n",
       "}\n",
       "\n",
       "#sk-container-id-1 a.estimator_doc_link.fitted:hover {\n",
       "  /* fitted */\n",
       "  background-color: var(--sklearn-color-fitted-level-3);\n",
       "}\n",
       "</style><div id=\"sk-container-id-1\" class=\"sk-top-container\"><div class=\"sk-text-repr-fallback\"><pre>PCA(n_components=2)</pre><b>In a Jupyter environment, please rerun this cell to show the HTML representation or trust the notebook. <br />On GitHub, the HTML representation is unable to render, please try loading this page with nbviewer.org.</b></div><div class=\"sk-container\" hidden><div class=\"sk-item\"><div class=\"sk-estimator fitted sk-toggleable\"><input class=\"sk-toggleable__control sk-hidden--visually\" id=\"sk-estimator-id-1\" type=\"checkbox\" checked><label for=\"sk-estimator-id-1\" class=\"sk-toggleable__label fitted sk-toggleable__label-arrow fitted\">&nbsp;&nbsp;PCA<a class=\"sk-estimator-doc-link fitted\" rel=\"noreferrer\" target=\"_blank\" href=\"https://scikit-learn.org/1.4/modules/generated/sklearn.decomposition.PCA.html\">?<span>Documentation for PCA</span></a><span class=\"sk-estimator-doc-link fitted\">i<span>Fitted</span></span></label><div class=\"sk-toggleable__content fitted\"><pre>PCA(n_components=2)</pre></div> </div></div></div></div>"
      ],
      "text/plain": [
       "PCA(n_components=2)"
      ]
     },
     "execution_count": 9,
     "metadata": {},
     "output_type": "execute_result"
    }
   ],
   "source": [
    "pca.fit(X)"
   ]
  },
  {
   "cell_type": "code",
   "execution_count": 10,
   "id": "4d722218-93ad-4b87-84de-0ff2426eb7af",
   "metadata": {},
   "outputs": [],
   "source": [
    "pca_x = pca.transform(X)"
   ]
  },
  {
   "cell_type": "markdown",
   "id": "882a2bb6-37b8-4bf7-b33e-8103c50794dc",
   "metadata": {},
   "source": [
    "# Do MeanShift "
   ]
  },
  {
   "cell_type": "raw",
   "id": "64468d43-e83d-4ee3-8840-c30033e8961c",
   "metadata": {},
   "source": [
    "# The following bandwidth can be automatically detected using\n",
    "bandwidth = estimate_bandwidth(X, quantile=0.1, n_samples=500)\n",
    "\n",
    "ms = MeanShift(bandwidth=bandwidth, bin_seeding=True)\n",
    "ms.fit(X)\n",
    "labels = ms.labels_\n",
    "cluster_centers = ms.cluster_centers_\n",
    "\n",
    "labels_unique = np.unique(labels)\n",
    "n_clusters_ = len(labels_unique)\n",
    "\n",
    "print(\"number of estimated clusters : %d\" % n_clusters_)\n",
    "print(cluster_centers)"
   ]
  },
  {
   "cell_type": "code",
   "execution_count": 11,
   "id": "ad10bcec-c4cd-488f-9bf7-8be4a079ca30",
   "metadata": {},
   "outputs": [
    {
     "name": "stdout",
     "output_type": "stream",
     "text": [
      "number of estimated clusters : 4\n",
      "[[-3.49286415 -2.86122913]\n",
      " [ 3.89021753 -1.14195536]\n",
      " [ 0.95452317 -0.11508508]\n",
      " [-1.33035694  4.17524838]]\n"
     ]
    }
   ],
   "source": [
    "# The following bandwidth can be automatically detected using\n",
    "bandwidth = estimate_bandwidth(pca_x, quantile=0.2, n_samples=500)\n",
    "\n",
    "ms = MeanShift(bandwidth=bandwidth, bin_seeding=True)\n",
    "ms.fit(pca_x)\n",
    "labels = ms.labels_\n",
    "cluster_centers = ms.cluster_centers_\n",
    "\n",
    "labels_unique = np.unique(labels)\n",
    "n_clusters_ = len(labels_unique)\n",
    "\n",
    "print(\"number of estimated clusters : %d\" % n_clusters_)\n",
    "print(cluster_centers)"
   ]
  },
  {
   "cell_type": "raw",
   "id": "7740a695-4c72-4c06-8e08-3e6961c2df6c",
   "metadata": {},
   "source": [
    "plt.figure(1)\n",
    "plt.clf()\n",
    "\n",
    "colors = [\"#dede00\", \"#377eb8\", \"#f781bf\", \"#888\"]\n",
    "markers = [\"x\", \"o\", \"^\", \"*\"]\n",
    "\n",
    "for k, col in zip(range(n_clusters_), colors):\n",
    "    my_members = labels == k\n",
    "    cluster_center = cluster_centers[k]\n",
    "    plt.plot(X[my_members, 0], X[my_members, 1], markers[k], color=col)\n",
    "    plt.plot(\n",
    "        cluster_center[0],\n",
    "        cluster_center[1],\n",
    "        markers[k],\n",
    "        markerfacecolor=col,\n",
    "        markeredgecolor=\"k\",\n",
    "        markersize=14,\n",
    "    )\n",
    "plt.title(\"Estimated number of clusters: %d\" % n_clusters_)\n",
    "plt.show()"
   ]
  },
  {
   "cell_type": "code",
   "execution_count": 12,
   "id": "a8c01d13-d779-4dab-892e-23d9765129a8",
   "metadata": {},
   "outputs": [
    {
     "data": {
      "image/png": "[encoded data removed]",
      "text/plain": [
       "<Figure size 640x480 with 1 Axes>"
      ]
     },
     "metadata": {},
     "output_type": "display_data"
    }
   ],
   "source": [
    "plt.figure(1)\n",
    "plt.clf()\n",
    "\n",
    "colors = [\"#dede00\", \"#377eb8\", \"#f781bf\", \"#888\"]\n",
    "markers = [\"x\", \"o\", \"^\", \"*\"]\n",
    "\n",
    "for k, col in zip(range(n_clusters_), colors):\n",
    "    my_members = labels == k\n",
    "    cluster_center = cluster_centers[k]\n",
    "    plt.plot(pca_x[my_members, 0], pca_x[my_members, 1], markers[k], color=col)\n",
    "    plt.plot(\n",
    "        cluster_center[0],\n",
    "        cluster_center[1],\n",
    "        markers[k],\n",
    "        markerfacecolor=col,\n",
    "        markeredgecolor=\"k\",\n",
    "        markersize=14,\n",
    "    )\n",
    "plt.title(\"Estimated number of clusters: %d\" % n_clusters_)\n",
    "plt.show()"
   ]
  },
  {
   "cell_type": "markdown",
   "id": "b7cc7650-9601-4628-b88c-b74c2633e11d",
   "metadata": {},
   "source": [
    "## Pickle what we wanna save"
   ]
  },
  {
   "cell_type": "code",
   "execution_count": 32,
   "id": "8aa1cb80-6e50-4323-825d-f3fadec38a40",
   "metadata": {},
   "outputs": [],
   "source": [
    "with open(\"model.pkl\", \"wb\") as f:\n",
    "    pickle.dump(ms, f)"
   ]
  },
  {
   "cell_type": "code",
   "execution_count": 33,
   "id": "35392a7b-6bef-4a98-a376-ba27699b186c",
   "metadata": {},
   "outputs": [],
   "source": [
    "with open(\"pca_model.pkl\", \"wb\") as f:\n",
    "    pickle.dump(pca, f)"
   ]
  },
  {
   "cell_type": "markdown",
   "id": "30f39082-451b-4817-9fc9-fff89da426db",
   "metadata": {},
   "source": [
    "## Make a piece of sample data to test this with"
   ]
  },
  {
   "cell_type": "code",
   "execution_count": 217,
   "id": "a2798b21-c9e2-47bd-ad51-00245654c67f",
   "metadata": {},
   "outputs": [],
   "source": [
    "def fix_size(likes):\n",
    "    adjusted = [0]*302\n",
    "    for like in likes:\n",
    "        adjusted[ingredients.index(like)] = 1\n",
    "    return adjusted"
   ]
  },
  {
   "cell_type": "code",
   "execution_count": 218,
   "id": "dc7005c5-69fe-4df9-ae55-3e1fcf0c48ae",
   "metadata": {},
   "outputs": [],
   "source": [
    "def to_ingredients(cluster):\n",
    "    converted = []\n",
    "    for point in cluster:\n",
    "        converted_i = []\n",
    "        for val in point:\n",
    "            converted_i.append(ingredients[list(point).index(val)])\n",
    "        converted.append(list(set(converted_i)))\n",
    "    return converted\n",
    "    # return list(map(lambda y: list(map(lambda x: ingredients[cluster.index(x)], y)), cluster))"
   ]
  },
  {
   "cell_type": "code",
   "execution_count": 219,
   "id": "bd7c6247-819d-4a58-b7cc-035de3b51699",
   "metadata": {},
   "outputs": [],
   "source": [
    "alice_from_twilight = {\n",
    "    \"likes\" : [\"raw fish\", \"coffee\", \"lamb\"],\n",
    "    \"dislikes\" : [\"garlic\", \"rose water\"]\n",
    "}"
   ]
  },
  {
   "cell_type": "code",
   "execution_count": 220,
   "id": "2f94ae9b-9edd-4a3d-8e54-2013c4556844",
   "metadata": {},
   "outputs": [],
   "source": [
    "alice_from_twilight[\"likes\"] = fix_size(alice_from_twilight[\"likes\"])"
   ]
  },
  {
   "cell_type": "code",
   "execution_count": 221,
   "id": "4bae36ee-3dbb-444b-859e-a19a442876cf",
   "metadata": {},
   "outputs": [],
   "source": [
    "alice_pca = pca.transform([alice_from_twilight[\"likes\"]])"
   ]
  },
  {
   "cell_type": "code",
   "execution_count": 222,
   "id": "9e0fbe22-d55a-4a8b-9455-51468b2eccae",
   "metadata": {},
   "outputs": [
    {
     "data": {
      "text/plain": [
       "array([[-0.85726499,  0.42540105]])"
      ]
     },
     "execution_count": 222,
     "metadata": {},
     "output_type": "execute_result"
    }
   ],
   "source": [
    "alice_pca"
   ]
  },
  {
   "cell_type": "code",
   "execution_count": 223,
   "id": "e5255b4d-935d-41af-aa77-06fe92ff7262",
   "metadata": {},
   "outputs": [
    {
     "data": {
      "text/plain": [
       "array([2])"
      ]
     },
     "execution_count": 223,
     "metadata": {},
     "output_type": "execute_result"
    }
   ],
   "source": [
    "ms.predict(alice_pca) # this should be the triangle group, which seems right"
   ]
  },
  {
   "cell_type": "code",
   "execution_count": 224,
   "id": "0fb43a59-e6d9-495c-b9cb-f520ccde2c70",
   "metadata": {},
   "outputs": [],
   "source": [
    "in_cluster_with_alice = [\n",
    "    X[i] for i, c in enumerate(ms.labels_)\n",
    "]"
   ]
  },
  {
   "cell_type": "code",
   "execution_count": 225,
   "id": "9328a0f3-1073-412e-8c72-c44a4b3f814f",
   "metadata": {},
   "outputs": [
    {
     "ename": "ValueError",
     "evalue": "setting an array element with a sequence. The requested array has an inhomogeneous shape after 1 dimensions. The detected shape was (600,) + inhomogeneous part.",
     "output_type": "error",
     "traceback": [
      "\u001b[0;31m---------------------------------------------------------------------------\u001b[0m",
      "\u001b[0;31mValueError\u001b[0m                                Traceback (most recent call last)",
      "Cell \u001b[0;32mIn[225], line 1\u001b[0m\n\u001b[0;32m----> 1\u001b[0m cluster_2_ingredients \u001b[38;5;241m=\u001b[39m np\u001b[38;5;241m.\u001b[39marray(to_ingredients(in_cluster_with_alice))\n",
      "\u001b[0;31mValueError\u001b[0m: setting an array element with a sequence. The requested array has an inhomogeneous shape after 1 dimensions. The detected shape was (600,) + inhomogeneous part."
     ]
    }
   ],
   "source": [
    "cluster_2_ingredients = to_ingredients(in_cluster_with_alice)"
   ]
  },
  {
   "cell_type": "code",
   "execution_count": null,
   "id": "d06ddedb-f30d-4824-bb5e-97295a304f3c",
   "metadata": {},
   "outputs": [],
   "source": []
  }
 ],
 "metadata": {
  "kernelspec": {
   "display_name": "cewit-2024-analysis",
   "language": "python",
   "name": "cewit-2024-analysis"
  },
  "language_info": {
   "codemirror_mode": {
    "name": "ipython",
    "version": 3
   },
   "file_extension": ".py",
   "mimetype": "text/x-python",
   "name": "python",
   "nbconvert_exporter": "python",
   "pygments_lexer": "ipython3",
   "version": "3.12.2"
  }
 },
 "nbformat": 4,
 "nbformat_minor": 5
}
